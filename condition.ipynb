{
 "cells": [
  {
   "cell_type": "code",
   "execution_count": 4,
   "id": "cc97b656-350e-4a28-8bf6-98df6f21d930",
   "metadata": {},
   "outputs": [],
   "source": [
    "s=\"sunny\""
   ]
  },
  {
   "cell_type": "code",
   "execution_count": 5,
   "id": "a4a720ab-969f-4808-ace8-a83a82e7f6d7",
   "metadata": {},
   "outputs": [
    {
     "data": {
      "text/plain": [
       "str"
      ]
     },
     "execution_count": 5,
     "metadata": {},
     "output_type": "execute_result"
    }
   ],
   "source": [
    "type(s)"
   ]
  },
  {
   "cell_type": "code",
   "execution_count": 6,
   "id": "efc4f6c0-765a-474a-a619-e0b4dc7fbb20",
   "metadata": {},
   "outputs": [],
   "source": [
    "l=[12,3.44,True,False,\"pinku\"]"
   ]
  },
  {
   "cell_type": "code",
   "execution_count": 7,
   "id": "23ca5dc8-7cf8-4d89-859a-57ec28da93b8",
   "metadata": {},
   "outputs": [
    {
     "data": {
      "text/plain": [
       "list"
      ]
     },
     "execution_count": 7,
     "metadata": {},
     "output_type": "execute_result"
    }
   ],
   "source": [
    "type(l)"
   ]
  },
  {
   "cell_type": "code",
   "execution_count": 8,
   "id": "80ffe050-0999-4318-9a42-dc6a2d257b05",
   "metadata": {},
   "outputs": [],
   "source": [
    "f=3.23"
   ]
  },
  {
   "cell_type": "code",
   "execution_count": 9,
   "id": "0dbf30b5-bc7a-4f30-9948-4dcbbaf847b5",
   "metadata": {},
   "outputs": [
    {
     "data": {
      "text/plain": [
       "float"
      ]
     },
     "execution_count": 9,
     "metadata": {},
     "output_type": "execute_result"
    }
   ],
   "source": [
    "type(f)"
   ]
  },
  {
   "cell_type": "code",
   "execution_count": 10,
   "id": "539e4f36-68f6-4980-b6d6-b43ec6f06295",
   "metadata": {},
   "outputs": [],
   "source": [
    "t=(13,4.55,\"sunny\",True)"
   ]
  },
  {
   "cell_type": "code",
   "execution_count": 11,
   "id": "39067ae0-85b4-418b-9980-18b9d4a403f6",
   "metadata": {},
   "outputs": [
    {
     "data": {
      "text/plain": [
       "tuple"
      ]
     },
     "execution_count": 11,
     "metadata": {},
     "output_type": "execute_result"
    }
   ],
   "source": [
    "type(t)"
   ]
  },
  {
   "cell_type": "code",
   "execution_count": 12,
   "id": "8325a65c-6489-493f-8bad-d0d31b6f5d38",
   "metadata": {},
   "outputs": [],
   "source": [
    "#Q2"
   ]
  },
  {
   "cell_type": "code",
   "execution_count": 14,
   "id": "46811aa7-ee67-4133-88e8-1e7afe61cc1a",
   "metadata": {},
   "outputs": [],
   "source": [
    "#var1=string"
   ]
  },
  {
   "cell_type": "code",
   "execution_count": 15,
   "id": "78e12ac2-3cf5-433c-8f84-67fc61ee567f",
   "metadata": {},
   "outputs": [],
   "source": [
    "#var2=string"
   ]
  },
  {
   "cell_type": "code",
   "execution_count": 16,
   "id": "0ef23fba-0018-4561-ac08-fd63a8a228d2",
   "metadata": {},
   "outputs": [],
   "source": [
    "#var3=list"
   ]
  },
  {
   "cell_type": "code",
   "execution_count": 17,
   "id": "29fbf980-0bc2-4381-bd3e-aa241110ed72",
   "metadata": {},
   "outputs": [],
   "source": [
    "#var4=float"
   ]
  },
  {
   "cell_type": "code",
   "execution_count": 18,
   "id": "0a632bc9-2752-402f-b099-28484b13bff8",
   "metadata": {},
   "outputs": [],
   "source": [
    "#Q3"
   ]
  },
  {
   "cell_type": "code",
   "execution_count": 20,
   "id": "5331a790-e7da-4797-8ab5-90cf680fbc7b",
   "metadata": {},
   "outputs": [
    {
     "name": "stdout",
     "output_type": "stream",
     "text": [
      "2.0\n"
     ]
    }
   ],
   "source": [
    "#1\n",
    "a=10\n",
    "b=5\n",
    "c=a/b\n",
    "print(c)"
   ]
  },
  {
   "cell_type": "code",
   "execution_count": 21,
   "id": "42f3044c-0dca-4ceb-960a-692ba86a6b84",
   "metadata": {},
   "outputs": [
    {
     "name": "stdout",
     "output_type": "stream",
     "text": [
      "2\n"
     ]
    }
   ],
   "source": [
    "#2\n",
    "a=12\n",
    "b=5\n",
    "c=a%b\n",
    "print(c)"
   ]
  },
  {
   "cell_type": "code",
   "execution_count": 22,
   "id": "c32dd68f-5fd4-459b-8296-1ba39c8f11b6",
   "metadata": {},
   "outputs": [
    {
     "name": "stdout",
     "output_type": "stream",
     "text": [
      "5\n"
     ]
    }
   ],
   "source": [
    "#3\n",
    "a=15\n",
    "b=3\n",
    "c=a//b\n",
    "print(c)"
   ]
  },
  {
   "cell_type": "code",
   "execution_count": 23,
   "id": "36b8169c-c7fb-4bc3-9d3d-3dce79989c97",
   "metadata": {},
   "outputs": [
    {
     "name": "stdout",
     "output_type": "stream",
     "text": [
      "8\n"
     ]
    }
   ],
   "source": [
    "#4\n",
    "a=2\n",
    "b=3\n",
    "c=a**b\n",
    "print(c)"
   ]
  },
  {
   "cell_type": "code",
   "execution_count": 24,
   "id": "cfc2eb50-6369-41e6-9d08-ae4cfb0b30f6",
   "metadata": {},
   "outputs": [],
   "source": [
    "#Q4\n",
    "l=[1,2,3,2.44,4.3,\"sunny\",\"pinku\",True,False,8,\"sandeep\"]"
   ]
  },
  {
   "cell_type": "code",
   "execution_count": 27,
   "id": "436c22e2-da55-42b0-b4e1-31f64801fdc4",
   "metadata": {},
   "outputs": [
    {
     "name": "stdout",
     "output_type": "stream",
     "text": [
      "<class 'int'>\n",
      "1\n",
      "<class 'int'>\n",
      "2\n",
      "<class 'int'>\n",
      "3\n",
      "<class 'float'>\n",
      "2.44\n",
      "<class 'float'>\n",
      "4.3\n",
      "<class 'str'>\n",
      "sunny\n",
      "<class 'str'>\n",
      "pinku\n",
      "<class 'bool'>\n",
      "True\n",
      "<class 'bool'>\n",
      "False\n",
      "<class 'int'>\n",
      "8\n",
      "<class 'str'>\n",
      "sandeep\n"
     ]
    }
   ],
   "source": [
    "for i in l:\n",
    "    print(type(i))\n",
    "    print(i)"
   ]
  },
  {
   "cell_type": "code",
   "execution_count": 31,
   "id": "3e4d9bae-60de-4f9a-8e31-35f3acc8cecf",
   "metadata": {},
   "outputs": [
    {
     "name": "stdout",
     "output_type": "stream",
     "text": [
      "17 is not divisible by 3\n",
      "32 is not divisible by 3\n",
      "9 is divisible by 3\n",
      "5 is not divisible by 3\n",
      "21 is divisible by 3\n",
      "46 is not divisible by 3\n",
      "33 is divisible by 3\n",
      "12 is divisible by 3\n",
      "7 is not divisible by 3\n",
      "19 is not divisible by 3\n",
      "15 is divisible by 3\n",
      "28 is not divisible by 3\n",
      "37 is not divisible by 3\n",
      "42 is divisible by 3\n",
      "10 is not divisible by 3\n",
      "8 is not divisible by 3\n",
      "24 is divisible by 3\n",
      "31 is not divisible by 3\n",
      "18 is divisible by 3\n",
      "4 is not divisible by 3\n",
      "13 is not divisible by 3\n",
      "27 is divisible by 3\n",
      "39 is divisible by 3\n",
      "22 is not divisible by 3\n",
      "11 is not divisible by 3\n"
     ]
    }
   ],
   "source": [
    "#Q6\n",
    "l = [17, 32, 9, 5, 21, 46, 33, 12, 7, 19, 15, 28, 37, 42, 10, 8, 24, 31, 18, 4, 13, 27, 39, 22, 11]\n",
    "\n",
    "for i in l:\n",
    "    if i % 3 == 0:\n",
    "        print(f\"{i} is divisible by 3\")\n",
    "    else:\n",
    "        print(f\"{i} is not divisible by 3\")\n"
   ]
  },
  {
   "cell_type": "code",
   "execution_count": 33,
   "id": "394ad4a0-cd47-425c-88fe-d8af5b18060a",
   "metadata": {},
   "outputs": [
    {
     "name": "stdout",
     "output_type": "stream",
     "text": [
      "A is divisible by B, and it can be divided 2 times.\n"
     ]
    }
   ],
   "source": [
    "#Q5\n",
    "A = 100\n",
    "B = 5\n",
    "count = 0\n",
    "while A % B == 0:\n",
    "    A /= B\n",
    "    count += 1\n",
    "if count > 0:\n",
    "    print(f\"A is divisible by B, and it can be divided {count} times.\")\n",
    "else:\n",
    "    print(\"A is not divisible by B.\")\n",
    "\n"
   ]
  },
  {
   "cell_type": "code",
   "execution_count": 34,
   "id": "614e6ad6-f568-45da-bf41-13ec0c11e8a8",
   "metadata": {},
   "outputs": [],
   "source": [
    "#Q7\n",
    "\n",
    "#Immutable data types:\n",
    "#Immutable data types are those whose values cannot be changed once they are assigned. Any operation that appears to modify the value of an immutable object actually creates a new object with the modified value.\n",
    "\n",
    "#exaple= string\n",
    "\n",
    "\n",
    "# Mutable data types:\n",
    "#mutable data types in contrast, allow their values to be modified after assignment. Operations directly modify the object without creating a new one\n",
    "#example= list"
   ]
  },
  {
   "cell_type": "code",
   "execution_count": null,
   "id": "445f2072-0c8f-4212-b6e4-fc7ee9a2517c",
   "metadata": {},
   "outputs": [],
   "source": []
  }
 ],
 "metadata": {
  "kernelspec": {
   "display_name": "Python 3 (ipykernel)",
   "language": "python",
   "name": "python3"
  },
  "language_info": {
   "codemirror_mode": {
    "name": "ipython",
    "version": 3
   },
   "file_extension": ".py",
   "mimetype": "text/x-python",
   "name": "python",
   "nbconvert_exporter": "python",
   "pygments_lexer": "ipython3",
   "version": "3.10.8"
  }
 },
 "nbformat": 4,
 "nbformat_minor": 5
}
